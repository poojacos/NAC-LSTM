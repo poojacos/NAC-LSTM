{
  "nbformat": 4,
  "nbformat_minor": 0,
  "metadata": {
    "colab": {
      "name": "doublesTCN.ipynb",
      "provenance": [],
      "collapsed_sections": []
    },
    "kernelspec": {
      "name": "python3",
      "display_name": "Python 3"
    },
    "accelerator": "GPU"
  },
  "cells": [
    {
      "cell_type": "code",
      "metadata": {
        "id": "1bMKlHgoclVb",
        "colab_type": "code",
        "colab": {}
      },
      "source": [
        "!apt-get install -y -qq software-properties-common python-software-properties module-init-tools\n",
        "!add-apt-repository -y ppa:alessandro-strada/ppa 2>&1 > /dev/null\n",
        "!apt-get update -qq 2>&1 > /dev/null"
      ],
      "execution_count": 0,
      "outputs": []
    },
    {
      "cell_type": "code",
      "metadata": {
        "id": "Y2npv3FwtjqX",
        "colab_type": "code",
        "colab": {}
      },
      "source": [
        "!pip install keras-tcn==2.1.2"
      ],
      "execution_count": 0,
      "outputs": []
    },
    {
      "cell_type": "code",
      "metadata": {
        "id": "bfL6LqeacrY9",
        "colab_type": "code",
        "colab": {}
      },
      "source": [
        "from google.colab import drive\n",
        "drive.mount('/content/drive')"
      ],
      "execution_count": 0,
      "outputs": []
    },
    {
      "cell_type": "code",
      "metadata": {
        "id": "_bRLTZoPczk8",
        "colab_type": "code",
        "colab": {}
      },
      "source": [
        "cd drive\n"
      ],
      "execution_count": 0,
      "outputs": []
    },
    {
      "cell_type": "code",
      "metadata": {
        "id": "fhUqzUNCc10o",
        "colab_type": "code",
        "colab": {}
      },
      "source": [
        "cd My Drive"
      ],
      "execution_count": 0,
      "outputs": []
    },
    {
      "cell_type": "code",
      "metadata": {
        "id": "G2ugqierc4XE",
        "colab_type": "code",
        "colab": {}
      },
      "source": [
        "import keras\n",
        "import os\n",
        "#os.chdir('/content/drive/My Drive/Thesis Codes/44Col/')\n",
        "#print(os.listdir())"
      ],
      "execution_count": 0,
      "outputs": []
    },
    {
      "cell_type": "code",
      "metadata": {
        "id": "SZTJKOm2gAm0",
        "colab_type": "code",
        "colab": {}
      },
      "source": [
        "import tensorflow as tf\n",
        "tf.test.gpu_device_name()"
      ],
      "execution_count": 0,
      "outputs": []
    },
    {
      "cell_type": "code",
      "metadata": {
        "id": "NMq1LQqqc_V6",
        "colab_type": "code",
        "colab": {}
      },
      "source": [
        "# -*- coding: utf-8 -*-\n",
        "\"\"\"\n",
        "Created on Fri Oct  5 16:23:15 2018\n",
        "\n",
        "@author: Pooja\n",
        "\"\"\"\n",
        "#Meand and Cross Validation\n",
        "import numpy as np\n",
        "import os\n",
        "import cv2\n",
        "import keras\n",
        "import time\n",
        "from tcn import tcn\n",
        "from sklearn.metrics import classification_report\n",
        "from sklearn.model_selection import train_test_split\n",
        "from sklearn.model_selection import StratifiedKFold\n",
        "from keras.layers import Dense, Flatten, Dropout,Input, Bidirectional,BatchNormalization\n",
        "#from keras.layers import Merge\n",
        "from keras.layers.recurrent import LSTM\n",
        "from keras.models import Sequential, load_model\n",
        "from keras.optimizers import Adam, RMSprop\n",
        "from keras.layers.wrappers import TimeDistributed\t\n",
        "from keras.layers.convolutional import (Conv2D,MaxPooling2D)\n",
        "from keras.utils import np_utils\n",
        "from keras.callbacks import ModelCheckpoint\t\n",
        "\n",
        "from keras.layers import multiply\n",
        "from keras.layers.core import *\n",
        "from keras.models import *\n",
        "max_seq = 44\n",
        "num = np.zeros(6)\n",
        "path_uiuc = '/content/drive/My Drive/Thesis Codes/'\n",
        "x = list()\n",
        "y = list()\n",
        "data_fold = ['44D1', '44D2', '44Col']\n",
        "for fold in data_fold:\n",
        "    path_44 = path_uiuc + fold + '/'\n",
        "    print(path_44)\n",
        "    vidlist = os.listdir(path_44)\n",
        "    it = len(vidlist)\n",
        "    for i in range(it):\n",
        "        s1 = vidlist[i]\n",
        "        _, typ = s1.split('_')\n",
        "        #NO REACT\n",
        "        if typ == '3':\n",
        "            y.append(3)\n",
        "        \n",
        "        elif typ == '0':\n",
        "           y.append(0)\n",
        "           \n",
        "        elif typ == '1':\n",
        "           y.append(1)\n",
        "           \n",
        "        elif typ == '2':\n",
        "           y.append(2)\n",
        "           \n",
        "        elif typ == '4':   \n",
        "           y.append(4)\n",
        "           \n",
        "        elif typ == '5':\n",
        "           y.append(5)\n",
        "        else:\n",
        "            print('Error!' + str(typ))\n",
        "            \n",
        "        num[int(typ)] +=1\n",
        "        \n",
        "        os.chdir(path_44 + s1)   \n",
        "        img_list = os.listdir()\n",
        "        it0 = len(img_list)\n",
        "        temp = list()\n",
        "        dim = (32,32)\n",
        "        for j in range(it0):\n",
        "            img = cv2.imread(img_list[j])\n",
        "            print(str(i)+'_'+str(j), end = ' ')\n",
        "            img = cv2.cvtColor(img, cv2.COLOR_BGR2GRAY)\n",
        "            img = cv2.resize(img, dim, interpolation = cv2.INTER_CUBIC)\n",
        "            mn1 = np.mean(img)\n",
        "            st1 = np.std(img)\n",
        "            img = (img.copy() - mn1) / st1\n",
        "            img = img.copy().flatten()\n",
        "            temp.append(img)\n",
        "        temp = np.asarray(temp)     \n",
        "        x.append(temp)\n",
        "        \n",
        "strokes = {'backhand':num[0], 'forehand':num[1], 'lob':num[2], 'react':num[3], 'serve':num[4], 'smash':num[5]}\n",
        "for i in strokes.keys():\n",
        "    print(\"{} - %d\".format(i)%(strokes[i]), end=' ')\n",
        "    \n",
        "X = np.asarray(x)\n",
        "Y = np.asarray(y)\n",
        "#X = X.reshape(X.shape[0], X.shape[1], X.shape[2], X.shape[3], 1)\n",
        "#Y = np_utils.to_categorical(Y, 5)  \n",
        "print(X.shape)\n",
        "print(Y.shape)        \n",
        "\n",
        "\n",
        "X_train, X_test, y_train, y_test = train_test_split(x, y, test_size=0.1, random_state=42,shuffle =True)\n",
        "X_train=np.asarray(X_train)\n",
        "X_test=np.asarray(X_test)\n",
        "X_train = X_train.astype('float32')\n",
        "X_test = X_test.astype('float32')\n",
        "X_train /= 255\n",
        "X_test /= 255\n",
        "#y_train = np_utils.to_categorical(y_train, 6)\n",
        "y_test = np_utils.to_categorical(y_test, 6)\n",
        "\n",
        "seed = 10   \n",
        "kfold = StratifiedKFold(n_splits=5, shuffle=True, random_state=seed)\n",
        "cvscores = []\n",
        "ii = 0 \n",
        "\n",
        "#model\n",
        "i = Input(batch_shape=(None, 44, 1024))\n",
        "#o = tcn.TCN(i, nb_filters=256, kernel_size=2, nb_stacks=2, dilations=[1,2,4,8,16,32,64], activation='wavenet',use_skip_connections=True,dropout_rate=0.25)\n",
        "o = tcn.TCN(i, nb_filters=64, kernel_size=15, nb_stacks=5, dilations=[2], activation='wavenet',use_skip_connections=True, return_sequences = False, dropout_rate=0.25)\n",
        "o = Dense(6, activation='sigmoid')(o)    \n",
        "model = Model(inputs=[i], outputs=[o])\n",
        "#print(model.summary())\n",
        "\n",
        "start = time.time()\n",
        "for train, test in kfold.split(X_train, y_train):\n",
        "    print('------------ITERATION : ' + str(ii) + '  -------------------') \n",
        "\t# Compile model\n",
        "    #sgd = keras.optimizers.Adam(lr=0.001, beta_1=0.9, beta_2=0.999, epsilon=1e-08, decay=0.0)\n",
        "    sgd = keras.optimizers.Adadelta(lr=1.0, rho=0.95, epsilon=1e-08, decay=0.0)\n",
        "    model.compile(loss='binary_crossentropy', optimizer=sgd, metrics=['accuracy'])\n",
        "\t# Fit the model\n",
        "    Yy = np_utils.to_categorical(y_train, 6)\n",
        "    model.fit(X_train[train], Yy[train], epochs=110, batch_size=32, verbose=0)\n",
        "    model.save('/content/drive/My Drive/Thesis Models/edtcn_m'+str(ii)+'.h5')\n",
        "    ii += 1\n",
        "    #print(model.predict(X[train], batch_size=32))\n",
        "\t# evaluate the model\n",
        "    scores = model.evaluate(X_train[test], Yy[test], verbose=0)\n",
        "    print(\"%s: %.2f%%\" % (model.metrics_names[1], scores[1]*100))\n",
        "    cvscores.append(scores[1] * 100)\n",
        "exectime = time.time()-start    \n",
        "print(\"%.2f%% (+/- %.2f%%)\" % (np.mean(cvscores), np.std(cvscores)))\n",
        "\n",
        "final_scores = []\n",
        "for i in range(1):\n",
        "  mod = load_model('/content/drive/My Drive/Thesis Models/edtcn_m'+str(i)+'.h5')\n",
        "  eval1 = time.time()\n",
        "  scores = model.evaluate(X_test, y_test, verbose=1)\n",
        "  evaltim = time.time()-eval1\n",
        "  print(\"%s: %.2f%%\" % (model.metrics_names[1], scores[1]*100))\n",
        "  final_scores.append(scores[1] * 100)\n",
        "print(\"%.2f%% (+/- %.2f%%)\" % (np.mean(final_scores), np.std(final_scores)))\n",
        "print(exectime, evaltim)"
      ],
      "execution_count": 0,
      "outputs": []
    },
    {
      "cell_type": "markdown",
      "metadata": {
        "id": "9XhQYH75LWaQ",
        "colab_type": "text"
      },
      "source": [
        ""
      ]
    },
    {
      "cell_type": "code",
      "metadata": {
        "id": "aosgwOQamzED",
        "colab_type": "code",
        "colab": {}
      },
      "source": [
        ""
      ],
      "execution_count": 0,
      "outputs": []
    }
  ]
}